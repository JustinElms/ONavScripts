{
 "cells": [
  {
   "cell_type": "code",
   "execution_count": null,
   "metadata": {},
   "outputs": [],
   "source": [
    "import pandas as pd "
   ]
  },
  {
   "cell_type": "code",
   "execution_count": 1,
   "metadata": {},
   "outputs": [],
   "source": [
    "log_file = \"/data/access.log\""
   ]
  },
  {
   "cell_type": "code",
   "execution_count": 14,
   "metadata": {},
   "outputs": [
    {
     "name": "stdout",
     "output_type": "stream",
     "text": [
      "[2022-11-2\n"
     ]
    }
   ],
   "source": [
    "with open(log_file, \"r\") as f:\n",
    "    print(f.readline(10))"
   ]
  },
  {
   "cell_type": "code",
   "execution_count": 16,
   "metadata": {},
   "outputs": [],
   "source": [
    "line = '[2022-11-29 19:18:34 +0000] [9444] [INFO] 10.140.153.22:56614 - - [29/Nov/2022:19:18:34 +0000] \"GET /api/v2.0/dataset/giops_day/votemper/timestamps 1.0\" 200 140 \"https://staging.oceansdata.ca/public/\" \"Mozilla/5.0 (Windows NT 10.0; WOW64) AppleWebKit/537.36 (KHTML, like Gecko) Chrome/107.0.0.0 Safari/537.36\"'"
   ]
  },
  {
   "cell_type": "code",
   "execution_count": 23,
   "metadata": {},
   "outputs": [
    {
     "data": {
      "text/plain": [
       "['[2022-11-29',\n",
       " '19:18:34',\n",
       " '+0000]',\n",
       " '[9444]',\n",
       " '[INFO]',\n",
       " '10.140.153.22:56614',\n",
       " '-',\n",
       " '-',\n",
       " '[29/Nov/2022:19:18:34',\n",
       " '+0000]',\n",
       " '\"GET',\n",
       " '/api/v2.0/dataset/giops_day/votemper/timestamps',\n",
       " '1.0\"',\n",
       " '200',\n",
       " '140',\n",
       " '\"https://staging.oceansdata.ca/public/\"',\n",
       " '\"Mozilla/5.0',\n",
       " '(Windows',\n",
       " 'NT',\n",
       " '10.0;',\n",
       " 'WOW64)',\n",
       " 'AppleWebKit/537.36',\n",
       " '(KHTML,',\n",
       " 'like',\n",
       " 'Gecko)',\n",
       " 'Chrome/107.0.0.0',\n",
       " 'Safari/537.36\"']"
      ]
     },
     "execution_count": 23,
     "metadata": {},
     "output_type": "execute_result"
    }
   ],
   "source": [
    "req_data = line.split(\" \")\n",
    "req_data"
   ]
  },
  {
   "cell_type": "code",
   "execution_count": 26,
   "metadata": {},
   "outputs": [],
   "source": [
    "date = req_data[0].replace(\"[\",\"\")\n",
    "time = req_data[1]\n",
    "query_string = req_data[11]\n",
    "req_status = req_data[13]\n",
    "root_url = req_data[15].replace('\"',\"\")\n"
   ]
  },
  {
   "cell_type": "code",
   "execution_count": null,
   "metadata": {},
   "outputs": [
    {
     "data": {
      "text/plain": [
       "['', 'api', 'v2.0', 'dataset', 'giops_day', 'votemper', 'timestamps']"
      ]
     },
     "execution_count": 27,
     "metadata": {},
     "output_type": "execute_result"
    }
   ],
   "source": [
    "query_data = query_string.split(\"/\")\n",
    "query_data\n"
   ]
  },
  {
   "cell_type": "code",
   "execution_count": null,
   "metadata": {},
   "outputs": [
    {
     "data": {
      "text/plain": [
       "'dataset'"
      ]
     },
     "execution_count": 28,
     "metadata": {},
     "output_type": "execute_result"
    }
   ],
   "source": [
    "endpoint = query_data[3]\n"
   ]
  },
  {
   "cell_type": "code",
   "execution_count": null,
   "metadata": {},
   "outputs": [],
   "source": []
  }
 ],
 "metadata": {
  "kernelspec": {
   "display_name": "navigator",
   "language": "python",
   "name": "python3"
  },
  "language_info": {
   "codemirror_mode": {
    "name": "ipython",
    "version": 3
   },
   "file_extension": ".py",
   "mimetype": "text/x-python",
   "name": "python",
   "nbconvert_exporter": "python",
   "pygments_lexer": "ipython3",
   "version": "3.12.0"
  }
 },
 "nbformat": 4,
 "nbformat_minor": 2
}
